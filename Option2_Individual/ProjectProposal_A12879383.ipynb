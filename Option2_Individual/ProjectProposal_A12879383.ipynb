{
 "cells": [
  {
   "cell_type": "markdown",
   "metadata": {},
   "source": [
    "# COGS 108 - Project Proposal"
   ]
  },
  {
   "cell_type": "markdown",
   "metadata": {},
   "source": [
    "# Names & PID\n",
    "\n",
    "- Name: Juan Cruz Pawluszek\n",
    "- PID: A12879383"
   ]
  },
  {
   "cell_type": "markdown",
   "metadata": {},
   "source": [
    "# Research Question"
   ]
  },
  {
   "cell_type": "markdown",
   "metadata": {},
   "source": [
    "&emsp;How effective are health inspections? Do health inspections on a business affect their future inspection score and does it affect their sales and/or their social media rating on websites such as “Yelp”?"
   ]
  },
  {
   "cell_type": "markdown",
   "metadata": {},
   "source": [
    "## Background and Prior Work"
   ]
  },
  {
   "cell_type": "markdown",
   "metadata": {},
   "source": [
    "&emsp;Health inspections on the food industry is an important component of the health and safety of a population.<sup>1</sup> However, there is typically a large discrepancy between the amount of restaurants and the number of health inspectors in a certain city (In the city of chicago there are “more than 15,000 food establishments, has fewer than three dozen inspectors”<sup>2</sup>). With this question I intend to answer not only the effectiveness of an inspection in helping a business, but also how it will affect future health inspections of that same business based on different features of a restaurant and how they would react to a specific score.<br>",
    "&emsp;Based on previous work on this matter, such as the analysis done on the city of Chicago by the Chicago Department of Innovation and Technology,<sup>2</sup> it is possible to create predictions regarding the inspection of a restaurant as to whether a minor or critical violation will be committed by that business based on features of that restaurant such as location, previous inspections, and average temperature of the location.<br>",
    "&emsp;Another training model was developed in the city of Boston to track the previous health and hygiene violations of restaurants and detecting specific words or phrases of Yelp reviews of those same local restaurants to find out whether some would need to be inspected.<sup>3</sup> This model utilized social media as a starting off point to determine the likelihood that a restaurant might be committing a health code violation and thus be investigated.<br>",
    "\n",
    "References (include links):\n",
    "- 1)[Visualizing New York City Restaurant Inspections using SAP Analytics Cloud](https://www.sapanalytics.cloud/resources-visualizing-new-york-city-restaurant-inspections)\n",
    "- 2)[Delivering Faster Results with Food Inspections Forecasting](https://datasmart.ash.harvard.edu/news/article/delivering-faster-results-with-food-inspection-forecasting-631)\n",
    "- 3)[How Yelp plans to clean up one of the restaurant industry’s most dangerous flaws](https://www.washingtonpost.com/news/wonk/wp/2015/10/27/how-yelp-plans-to-clean-up-one-of-the-restaurant-industrys-most-dangerous-flaws)\n",
   ]
  },
  {
   "cell_type": "markdown",
   "metadata": {},
   "source": [
    "# Hypothesis\n"
   ]
  },
  {
   "cell_type": "markdown",
   "metadata": {},
   "source": [
    "*State and defend your hypotheses here.*"
   ]
  },
  {
   "cell_type": "markdown",
   "metadata": {},
   "source": [
    "# Data"
   ]
  },
  {
   "cell_type": "markdown",
   "metadata": {},
   "source": [
    "*Explain what the ideal dataset you would want to answer this question. (This should include: What variables? How many observations? Who/what/how would these data be collected? How would these data be stored/organized?)*"
   ]
  },
  {
   "cell_type": "markdown",
   "metadata": {},
   "source": [
    "# Ethics & Privacy"
   ]
  },
  {
   "cell_type": "markdown",
   "metadata": {},
   "source": [
    "*Fill in your ethics & privacy discussion here*"
   ]
  }
 ],
 "metadata": {
  "kernelspec": {
   "display_name": "Python 3",
   "language": "python",
   "name": "python3"
  },
  "language_info": {
   "codemirror_mode": {
    "name": "ipython",
    "version": 3
   },
   "file_extension": ".py",
   "mimetype": "text/x-python",
   "name": "python",
   "nbconvert_exporter": "python",
   "pygments_lexer": "ipython3",
   "version": "3.7.0"
  }
 },
 "nbformat": 4,
 "nbformat_minor": 2
}
